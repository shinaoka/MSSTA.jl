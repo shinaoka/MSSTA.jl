{
 "cells": [
  {
   "cell_type": "code",
   "execution_count": null,
   "metadata": {},
   "outputs": [],
   "source": [
    "using Revise\n",
    "using MSSTA\n",
    "using ITensors\n",
    "ITensors.disable_warn_order()\n",
    "using PyPlot\n",
    "using SparseIR: valueim, FermionicFreq"
   ]
  },
  {
   "cell_type": "code",
   "execution_count": null,
   "metadata": {},
   "outputs": [],
   "source": [
    "ek(kx, ky) = 2*cos(kx) + 2*cos(ky) - 1.0\n",
    "\n",
    "function gk(kx, ky, β)\n",
    "    iv = valueim(FermionicFreq(1), β)\n",
    "    1 / (iv - ek(kx, ky))\n",
    "end\n",
    "\n",
    "function f(xs, β)::ComplexF64\n",
    "    @assert all(0 .<= xs .< 1.)\n",
    "    kxy = 2π .* xs\n",
    "    return gk(kxy[1], kxy[2], β)\n",
    "end"
   ]
  },
  {
   "cell_type": "code",
   "execution_count": null,
   "metadata": {},
   "outputs": [],
   "source": [
    "R = 12\n",
    "N = 2^R\n",
    "halfN = 2^(R-1)\n",
    "siteskx = [Index(2, \"Qubit, kx=$n\") for n in 1:R]\n",
    "sitesky = [Index(2, \"Qubit, kx=$n\") for n in 1:R]\n",
    "sitesk = [Index(4, \"Quantics, k=$n\") for n in 1:R]"
   ]
  },
  {
   "cell_type": "code",
   "execution_count": null,
   "metadata": {},
   "outputs": [],
   "source": [
    "β = 100.0\n",
    "aqtt = MSSTA.construct_adaptiveqtt(ComplexF64, Val(2),\n",
    "    x->f(x, β), R; maxiter=100, tolerance=1e-5)"
   ]
  },
  {
   "cell_type": "code",
   "execution_count": null,
   "metadata": {},
   "outputs": [],
   "source": [
    "M = MSSTA.asmps(aqtt, sitesk)"
   ]
  },
  {
   "cell_type": "code",
   "execution_count": null,
   "metadata": {},
   "outputs": [],
   "source": [
    "truncate!(M; cutoff=1e-8)"
   ]
  },
  {
   "cell_type": "code",
   "execution_count": null,
   "metadata": {},
   "outputs": [],
   "source": [
    "semilogy(dim.(linkinds(M)), marker=\"x\")\n",
    "semilogy(MSSTA.maxlinkdims(siteinds(M)))"
   ]
  },
  {
   "cell_type": "code",
   "execution_count": null,
   "metadata": {},
   "outputs": [],
   "source": [
    "sitesx = [Index(2, \"Qubit,x=$n\") for n in 1:R]\n",
    "sitesy = [Index(2, \"Qubit,y=$n\") for n in 1:R]\n",
    "sitesxy = collect(Iterators.flatten(zip(sitesx, sitesy)))"
   ]
  },
  {
   "cell_type": "code",
   "execution_count": null,
   "metadata": {},
   "outputs": [],
   "source": [
    "M_qubit = MSSTA.splitsiteind(M, sitesxy; targetcsites=siteinds(M))\n",
    "truncate!(M_qubit; cutoff=1e-15)"
   ]
  },
  {
   "cell_type": "code",
   "execution_count": null,
   "metadata": {},
   "outputs": [],
   "source": [
    "semilogy(dim.(linkinds(M)), marker=\"o\")\n",
    "semilogy(dim.(linkinds(M_qubit)), marker=\"x\")"
   ]
  },
  {
   "cell_type": "code",
   "execution_count": null,
   "metadata": {},
   "outputs": [],
   "source": [
    "data = reshape(Array(reduce(*, M_qubit), reverse(sitesx)..., reverse(sitesy)...), 2^R, 2^R)\n",
    ";"
   ]
  },
  {
   "cell_type": "code",
   "execution_count": null,
   "metadata": {},
   "outputs": [],
   "source": [
    "@show maximum(abs, data)"
   ]
  },
  {
   "cell_type": "code",
   "execution_count": null,
   "metadata": {},
   "outputs": [],
   "source": [
    "pcolormesh(abs.(data))"
   ]
  },
  {
   "cell_type": "code",
   "execution_count": null,
   "metadata": {},
   "outputs": [],
   "source": [
    "xvec = collect(LinRange(0, 1, 2^R+1)[1:end-1])\n",
    "\n",
    "newaxis = [CartesianIndex()]\n",
    "f_(x, y) = f((x, y), β)\n",
    "data_ref = f_.(xvec[:,newaxis], xvec[newaxis,:])"
   ]
  },
  {
   "cell_type": "code",
   "execution_count": null,
   "metadata": {},
   "outputs": [],
   "source": [
    "pcolormesh(abs.(data_ref .- data)/maximum(abs, data_ref))\n",
    "colorbar()"
   ]
  }
 ],
 "metadata": {
  "kernelspec": {
   "display_name": "Julia 1.8.1",
   "language": "julia",
   "name": "julia-1.8"
  },
  "language_info": {
   "file_extension": ".jl",
   "mimetype": "application/julia",
   "name": "julia",
   "version": "1.8.1"
  }
 },
 "nbformat": 4,
 "nbformat_minor": 4
}
