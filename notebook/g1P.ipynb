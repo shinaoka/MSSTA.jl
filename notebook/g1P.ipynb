{
 "cells": [
  {
   "cell_type": "code",
   "execution_count": null,
   "metadata": {},
   "outputs": [],
   "source": [
    "using Revise\n",
    "using ITensors\n",
    "using SparseIR\n",
    "using MSSTA\n",
    "using Plots"
   ]
  },
  {
   "cell_type": "code",
   "execution_count": null,
   "metadata": {},
   "outputs": [],
   "source": [
    "R = 10\n",
    "N = 2^R\n",
    "halfN = 2^(R-1)\n",
    "sitesτ = [Index(2, \"Qubit, τ=$n\") for n in 1:R]\n",
    "sitesiω = [Index(2, \"Qubit, iω=$n\") for n in 1:R]"
   ]
  },
  {
   "cell_type": "markdown",
   "metadata": {},
   "source": [
    "First, we construct a QTT of $G(\\tau) = -\\frac{e^{-\\tau\\omega}}{1 + e^{-\\beta \\omega}}$."
   ]
  },
  {
   "cell_type": "code",
   "execution_count": null,
   "metadata": {},
   "outputs": [],
   "source": [
    "β = 10.0\n",
    "ω = 1.0\n",
    "gtau = MSSTA.poletomps(sitesτ, β, ω)"
   ]
  },
  {
   "cell_type": "markdown",
   "metadata": {},
   "source": [
    "We reconstruct $G(\\tau)$ from the QTT."
   ]
  },
  {
   "cell_type": "code",
   "execution_count": null,
   "metadata": {},
   "outputs": [],
   "source": [
    "gtau_reconst = vec(Array(reduce(*, gtau), reverse(sitesτ)))\n",
    "\n",
    "plot(LinRange(0, β, N+1)[1:end-1], gtau_reconst, xlabel=\"tau\", ylabel=\"G(tau)\")"
   ]
  },
  {
   "cell_type": "code",
   "execution_count": null,
   "metadata": {},
   "outputs": [],
   "source": [
    "giω = MSSTA.to_wn(Fermionic(), gtau, β; tag=\"τ\", sitesdst=sitesiω)"
   ]
  },
  {
   "cell_type": "code",
   "execution_count": null,
   "metadata": {},
   "outputs": [],
   "source": [
    "giω_reconst = vec(Array(reduce(*, giω), reverse(sitesiω)))\n",
    ";"
   ]
  },
  {
   "cell_type": "code",
   "execution_count": null,
   "metadata": {},
   "outputs": [],
   "source": [
    "ωn = SparseIR.FermionicFreq.(2 .* collect(-halfN:halfN-1) .+ 1)\n",
    "giω_ref = 1 ./ (SparseIR.valueim.(ωn, β) .- ω)"
   ]
  },
  {
   "cell_type": "code",
   "execution_count": null,
   "metadata": {},
   "outputs": [],
   "source": [
    "p = plot()\n",
    "plot!(p, imag.(giω_ref), marker=:x)\n",
    "plot!(p, imag.(giω_reconst))"
   ]
  },
  {
   "cell_type": "code",
   "execution_count": null,
   "metadata": {},
   "outputs": [],
   "source": [
    "p = plot(yaxis=:log)\n",
    "plot!(p, abs.(giω_ref))\n",
    "plot!(p, abs.(giω_ref .- giω_reconst))"
   ]
  }
 ],
 "metadata": {
  "kernelspec": {
   "display_name": "Julia 1.8.3",
   "language": "julia",
   "name": "julia-1.8"
  },
  "language_info": {
   "file_extension": ".jl",
   "mimetype": "application/julia",
   "name": "julia",
   "version": "1.8.3"
  },
  "orig_nbformat": 4
 },
 "nbformat": 4,
 "nbformat_minor": 2
}
