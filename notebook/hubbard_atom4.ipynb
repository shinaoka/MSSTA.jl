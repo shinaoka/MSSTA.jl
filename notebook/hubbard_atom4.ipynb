{
 "cells": [
  {
   "attachments": {},
   "cell_type": "markdown",
   "metadata": {},
   "source": [
    "# Vertices for Hubbard atom"
   ]
  },
  {
   "cell_type": "code",
   "execution_count": null,
   "metadata": {},
   "outputs": [],
   "source": [
    "using Revise\n",
    "using LinearAlgebra\n",
    "using SparseIR\n",
    "import SparseIR: valueim\n",
    "using MSSTA\n",
    "import MSSTA: QuanticsInd, quantics_to_index, asqubits, index_to_quantics, QubitInd, qubit_to_index, index_to_qubit\n",
    "using OvercompleteIR\n",
    "import OvercompleteIR: PHConvention, freq_box\n",
    "import OvercompleteIR.Atom: HubbardAtom, MagneticChannel, chi0, full_vertex, gamma\n",
    "using Plots\n",
    "import TensorCrossInterpolation as TCI\n",
    "\n",
    "newaxis = [CartesianIndex()]"
   ]
  },
  {
   "cell_type": "code",
   "execution_count": null,
   "metadata": {},
   "outputs": [],
   "source": [
    "using ITensors"
   ]
  },
  {
   "cell_type": "code",
   "execution_count": null,
   "metadata": {},
   "outputs": [],
   "source": [
    "# Taken from \"olving the Bethe–Salpeter equation with exponential convergence\"\n",
    "U = 2.3\n",
    "beta  = 1.55\n",
    "ch = DensityChannel()\n",
    "#phconv = PHConvention()\n",
    "#ppconv = PPConvention()\n",
    "model = HubbardAtom(U, beta)"
   ]
  },
  {
   "cell_type": "code",
   "execution_count": null,
   "metadata": {},
   "outputs": [],
   "source": [
    "#phbox = freq_box(phconv, 4, 3);\n",
    "#box4 = to_full_freq.(phconv, phbox);"
   ]
  },
  {
   "cell_type": "code",
   "execution_count": null,
   "metadata": {},
   "outputs": [],
   "source": [
    "# TCI with R bits\n",
    "function create_func(func, R)\n",
    "    # Origin of frequency box\n",
    "    origin = -2^(R-1)\n",
    "\n",
    "    m = MSSTA.DiscreteMesh{3}(R, (origin, origin, origin))\n",
    "\n",
    "    function q_to_n(q::Vector{QuanticsInd{3}})::NTuple{3, Int}\n",
    "        return MSSTA.originalcoordinate(m, q)\n",
    "    end\n",
    "\n",
    "    function func_q(q::Vector{QuanticsInd{3}})::ComplexF64\n",
    "        idx_3d = q_to_n(q)\n",
    "        if iseven(idx_3d[1]) || iseven(idx_3d[2]) || isodd(idx_3d[3])\n",
    "            return 0.0\n",
    "        end\n",
    "        return func((FermionicFreq(idx_3d[1]), FermionicFreq(idx_3d[2]), BosonicFreq(idx_3d[3])))\n",
    "    end\n",
    "\n",
    "    return q_to_n, func_q, m\n",
    "end\n",
    "\n",
    "R = 15\n",
    "q2n, fq, mesh = create_func(w->gamma(ch, model, w), R)\n",
    ";"
   ]
  },
  {
   "cell_type": "code",
   "execution_count": null,
   "metadata": {},
   "outputs": [],
   "source": [
    "fI = x->fq(QuanticsInd{3}.(x))\n",
    "localdims = fill(8, R)\n",
    "\n",
    "firstpivot = convert.(Int, index_to_quantics((2, 2, 1), R))\n",
    "#fq(QuanticsInd{3}.(firstpivot))\n",
    "@show fI(firstpivot)\n",
    "firstpivot = TCI.optfirstpivot(fI, localdims, firstpivot)\n",
    "@show fI(firstpivot)"
   ]
  },
  {
   "cell_type": "code",
   "execution_count": null,
   "metadata": {},
   "outputs": [],
   "source": [
    "qtt, ranks, errors = TCI.crossinterpolate2(\n",
    "    ComplexF64, fI, localdims,\n",
    "    [firstpivot], tolerance=1e-8, maxiter=200, verbosity=1\n",
    ")"
   ]
  },
  {
   "cell_type": "code",
   "execution_count": null,
   "metadata": {},
   "outputs": [],
   "source": [
    "q_diagonal = [MSSTA.quanticsindex(mesh, (2, 2, 1) .+ i) for i in 0:2^(R-5):2^R-1]\n",
    "reconst_diagonal = [TCI.evaluate(qtt, convert.(Int, q)) for q in q_diagonal]\n",
    "ref_diagonal = fq.(q_diagonal)\n",
    ";"
   ]
  },
  {
   "cell_type": "code",
   "execution_count": null,
   "metadata": {},
   "outputs": [],
   "source": [
    "p = plot(yaxis=:log, ylims=(1e-10,1e+4))\n",
    "plot!(p, abs.(reconst_diagonal), marker=:x)\n",
    "plot!(p, abs.(ref_diagonal), marker=:+)\n",
    "plot!(p, abs.(ref_diagonal .- reconst_diagonal))"
   ]
  },
  {
   "cell_type": "code",
   "execution_count": null,
   "metadata": {},
   "outputs": [],
   "source": [
    "f = collect(-21:2:21) # box for fermionic frequencies\n",
    "b = 0 # bosonic frequency\n",
    "\n",
    "is = collect(Iterators.product(f, f,  b))\n",
    "ws = [MSSTA.meshindex(mesh, i) for i in is]\n",
    "qs = [MSSTA.quanticsindex(mesh, w) for w in ws]\n",
    "\n",
    "vals = [TCI.evaluate(qtt, convert.(Int, q)) for q in qs]\n",
    ";"
   ]
  },
  {
   "cell_type": "code",
   "execution_count": null,
   "metadata": {},
   "outputs": [],
   "source": [
    "maxval = maximum(abs, vals)\n",
    "heatmap(f, f, real.(vals); c=:redsblues, clim=(-maxval, maxval))"
   ]
  },
  {
   "cell_type": "code",
   "execution_count": null,
   "metadata": {},
   "outputs": [],
   "source": [
    "ws_ = [(FermionicFreq(i[1]), FermionicFreq(i[2]), BosonicFreq(i[3])) for i in is]\n",
    "vals_ref = gamma.(ch, model, ws_)\n",
    "\n",
    "heatmap(real.(vals_ref); c=:redsblues, clim=(-maxval, maxval))"
   ]
  },
  {
   "cell_type": "code",
   "execution_count": null,
   "metadata": {},
   "outputs": [],
   "source": [
    "heatmap(log.(abs.(vals)))"
   ]
  },
  {
   "cell_type": "code",
   "execution_count": null,
   "metadata": {},
   "outputs": [],
   "source": []
  },
  {
   "cell_type": "code",
   "execution_count": null,
   "metadata": {},
   "outputs": [],
   "source": []
  }
 ],
 "metadata": {
  "kernelspec": {
   "display_name": "Julia 1.9.0",
   "language": "julia",
   "name": "julia-1.9"
  },
  "language_info": {
   "file_extension": ".jl",
   "mimetype": "application/julia",
   "name": "julia",
   "version": "1.9.0"
  }
 },
 "nbformat": 4,
 "nbformat_minor": 4
}
