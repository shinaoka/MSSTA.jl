{
 "cells": [
  {
   "cell_type": "markdown",
   "metadata": {},
   "source": [
    "# Vertices for Hubbard atom"
   ]
  },
  {
   "cell_type": "code",
   "execution_count": null,
   "metadata": {},
   "outputs": [],
   "source": [
    "using Revise\n",
    "using LinearAlgebra\n",
    "using SparseIR\n",
    "import SparseIR: valueim\n",
    "using MSSTA\n",
    "import MSSTA: QuanticsInd, quantics_to_index, asqubits, index_to_quantics, QubitInd, qubit_to_index, index_to_qubit\n",
    "using OvercompleteIR\n",
    "import OvercompleteIR: PHConvention, freq_box\n",
    "import OvercompleteIR.Atom: HubbardAtom, MagneticChannel, chi0, full_vertex, gamma\n",
    "using Plots\n",
    "import TensorCrossInterpolation as TCI\n",
    "\n",
    "newaxis = [CartesianIndex()]"
   ]
  },
  {
   "cell_type": "code",
   "execution_count": null,
   "metadata": {},
   "outputs": [],
   "source": [
    "_delta(i, j) = (i == j ? 1 : 0)"
   ]
  },
  {
   "cell_type": "code",
   "execution_count": null,
   "metadata": {},
   "outputs": [],
   "source": [
    "using ITensors"
   ]
  },
  {
   "cell_type": "code",
   "execution_count": null,
   "metadata": {},
   "outputs": [],
   "source": [
    "U = 5.0\n",
    "beta  = 1.0\n",
    "ch = DensityChannel()\n",
    "conv = PHConvention()\n",
    "model = HubbardAtom(U, beta)\n",
    "\n",
    "Nf = 2^9\n",
    "Nb = 10\n",
    "wb = BosonicFreq(2*Nb)\n",
    "box = freq_box(conv, 2*Nf, 2*Nb+1)\n",
    "box = reshape(box, (2*Nf, 2*Nf, 2*Nb+1))\n",
    ";"
   ]
  },
  {
   "cell_type": "code",
   "execution_count": null,
   "metadata": {},
   "outputs": [],
   "source": [
    "data = gamma.(ch, model, box[:, :, end])\n",
    ";"
   ]
  },
  {
   "cell_type": "code",
   "execution_count": null,
   "metadata": {},
   "outputs": [],
   "source": [
    "heatmap(abs.(data))"
   ]
  },
  {
   "cell_type": "code",
   "execution_count": null,
   "metadata": {},
   "outputs": [],
   "source": [
    "# TCI with R bits\n",
    "function create_func(func, R, wforg, wb)\n",
    "    function q_to_n(q::Vector{QubitInd})\n",
    "        tmp = BosonicFreq.(2 .* (qubit_to_index(Val(2), q, R) .- 1)) .+ wforg\n",
    "        return (tmp..., wb)\n",
    "    end\n",
    "    function func_q(q::Vector{QubitInd})\n",
    "        return func(q_to_n(q))\n",
    "    end\n",
    "    return q_to_n, func_q\n",
    "end\n",
    "\n",
    "R = 10\n",
    "q2n, fq = create_func(w->gamma(ch, model, w), R, FermionicFreq(-2Nf+1), wb)"
   ]
  },
  {
   "cell_type": "code",
   "execution_count": null,
   "metadata": {},
   "outputs": [],
   "source": [
    "fI = x->fq(QubitInd.(x))\n",
    "localdims = fill(2, 2*R)\n",
    "\n",
    "firstpivot = TCI.optfirstpivot(fI, localdims)\n",
    "@show fI(firstpivot)"
   ]
  },
  {
   "cell_type": "code",
   "execution_count": null,
   "metadata": {},
   "outputs": [],
   "source": [
    "qtt, ranks, errors = TCI.crossinterpolate2(\n",
    "    ComplexF64, fI, localdims,\n",
    "    [firstpivot], tolerance=1e-6, maxiter=10000, verbosity=1\n",
    ")"
   ]
  },
  {
   "cell_type": "code",
   "execution_count": null,
   "metadata": {},
   "outputs": [],
   "source": [
    "q_diagonal = [index_to_qubit((i, 2^(R-1)), R) for i in 1:2^(R-6):2^(R-1)]\n",
    "reconst_diagonal = [TCI.evaluate(qtt, convert.(Int, q)) for q in q_diagonal]\n",
    "ref_diagonal = fq.(q_diagonal)\n",
    ";"
   ]
  },
  {
   "cell_type": "code",
   "execution_count": null,
   "metadata": {},
   "outputs": [],
   "source": [
    "p = plot(yaxis=:log, ylims=(1e-10,1e+2))\n",
    "plot!(p, abs.(reconst_diagonal), marker=:x)\n",
    "plot!(p, abs.(ref_diagonal .- reconst_diagonal))"
   ]
  },
  {
   "cell_type": "code",
   "execution_count": null,
   "metadata": {},
   "outputs": [],
   "source": []
  }
 ],
 "metadata": {
  "kernelspec": {
   "display_name": "Julia 1.8.5",
   "language": "julia",
   "name": "julia-1.8"
  },
  "language_info": {
   "file_extension": ".jl",
   "mimetype": "application/julia",
   "name": "julia",
   "version": "1.8.5"
  }
 },
 "nbformat": 4,
 "nbformat_minor": 4
}
