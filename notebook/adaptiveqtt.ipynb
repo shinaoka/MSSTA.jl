{
 "cells": [
  {
   "cell_type": "code",
   "execution_count": null,
   "metadata": {},
   "outputs": [],
   "source": [
    "using Revise\n",
    "import TensorCrossInterpolation as TCI\n",
    "using MSSTA\n",
    "using ITensors\n",
    "ITensors.disable_warn_order()\n",
    "using SparseIR: valueim, FermionicFreq\n",
    "using BasicInterpolators\n",
    "using Plots\n",
    "using FFTW"
   ]
  },
  {
   "cell_type": "code",
   "execution_count": null,
   "metadata": {},
   "outputs": [],
   "source": [
    "ek(kx, ky) = 2*cos(kx) + 2*cos(ky) - 1.0\n",
    "\n",
    "function gk(kx, ky, β)\n",
    "    iv = valueim(FermionicFreq(1), β)\n",
    "    1 / (iv - ek(kx, ky))\n",
    "end\n",
    "\n",
    "function f(xs, β)::ComplexF64\n",
    "    @assert all(0 .<= xs .<= 1.)\n",
    "    kxy = 2π .* xs\n",
    "    return gk(kxy[1], kxy[2], β)\n",
    "end"
   ]
  },
  {
   "cell_type": "code",
   "execution_count": null,
   "metadata": {},
   "outputs": [],
   "source": [
    "R = 12\n",
    "N = 2^R\n",
    "β = 100.0\n",
    "\n",
    "halfN = 2^(R-1)\n",
    "siteskx = [Index(2, \"Qubit, kx=$n\") for n in 1:R]\n",
    "sitesky = [Index(2, \"Qubit, ky=$n\") for n in 1:R]\n",
    "sitesx = [Index(2, \"Qubit, x=$n\") for n in 1:R]\n",
    "sitesy = [Index(2, \"Qubit, y=$n\") for n in 1:R]\n",
    "#sitesk = [Index(4, \"Quantics, k=$n\") for n in 1:R]"
   ]
  },
  {
   "cell_type": "code",
   "execution_count": null,
   "metadata": {},
   "outputs": [],
   "source": [
    "\n",
    "xs = collect(LinRange(0, 1, 2^R))\n",
    "ys = collect(LinRange(0, 1, 2^R))\n",
    "xys = [(x, y) for x in xs, y in ys]\n",
    "\n",
    "zs = f.(xys, β)\n",
    "heatmap(abs.(zs))"
   ]
  },
  {
   "cell_type": "code",
   "execution_count": null,
   "metadata": {},
   "outputs": [],
   "source": [
    "zs_r = fft(zs)\n",
    "heatmap(log.(abs.(zs_r)))"
   ]
  },
  {
   "cell_type": "code",
   "execution_count": null,
   "metadata": {},
   "outputs": [],
   "source": [
    "#zs_reconst = ifft(zs_r)\n",
    "#heatmap(abs.(zs_reconst))"
   ]
  },
  {
   "cell_type": "code",
   "execution_count": null,
   "metadata": {},
   "outputs": [],
   "source": [
    "aqtt = MSSTA.construct_adaptiveqtt(ComplexF64, Val(2),\n",
    "    x->f(x, β), R; maxiter=100, tolerance=1e-5)"
   ]
  },
  {
   "cell_type": "code",
   "execution_count": null,
   "metadata": {},
   "outputs": [],
   "source": [
    "intpl_re = BilinearInterpolator(xs, ys, real.(zs_r))\n",
    "intpl_im = BilinearInterpolator(xs, ys, imag.(zs_r))\n",
    "\n",
    "aqtt = MSSTA.construct_adaptiveqtt(ComplexF64, Val(2),\n",
    "    x->(intpl_re(x...) + im * intpl_im(x...)), R; maxiter=100, tolerance=1e-5)"
   ]
  },
  {
   "cell_type": "code",
   "execution_count": null,
   "metadata": {},
   "outputs": [],
   "source": [
    "#M = MSSTA.asmps(aqtt, sitesk)\n",
    "#truncate!(M; cutoff=1e-8)\n",
    "#semilogy(dim.(linkinds(M)), marker=\"x\")\n",
    "#semilogy(MSSTA.maxlinkdims(siteinds(M)))"
   ]
  }
 ],
 "metadata": {
  "kernelspec": {
   "display_name": "Julia 1.9.0",
   "language": "julia",
   "name": "julia-1.9"
  },
  "language_info": {
   "file_extension": ".jl",
   "mimetype": "application/julia",
   "name": "julia",
   "version": "1.9.0"
  }
 },
 "nbformat": 4,
 "nbformat_minor": 4
}
